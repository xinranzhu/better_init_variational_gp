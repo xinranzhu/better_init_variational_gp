{
 "cells": [
  {
   "cell_type": "code",
   "execution_count": 1,
   "id": "c5b7a66a",
   "metadata": {},
   "outputs": [],
   "source": [
    "import torch\n",
    "import gpytorch\n",
    "\n",
    "from gpytorch.models import ApproximateGP\n",
    "from gpytorch.variational import CholeskyVariationalDistribution\n",
    "from gpytorch.variational import VariationalStrategy\n",
    "from gpytorch.variational import VariationalStrategyDecoupledConditionals"
   ]
  },
  {
   "cell_type": "code",
   "execution_count": 2,
   "id": "70d5f160",
   "metadata": {},
   "outputs": [],
   "source": [
    "from uci_data import load_uci_data\n",
    "\n",
    "torch.manual_seed(0)\n",
    "device = \"cuda:1\"\n",
    "\n",
    "torch.set_default_dtype(torch.float64)"
   ]
  },
  {
   "cell_type": "code",
   "execution_count": 3,
   "id": "b453f431",
   "metadata": {},
   "outputs": [],
   "source": [
    "class SVGP(ApproximateGP):\n",
    "    def __init__(self, inducing_points):\n",
    "        variational_distribution = CholeskyVariationalDistribution(inducing_points.size(0))\n",
    "        variational_strategy = VariationalStrategy(\n",
    "            self, inducing_points,\n",
    "            variational_distribution, learn_inducing_locations=True,\n",
    "        )\n",
    "        super().__init__(variational_strategy)\n",
    "\n",
    "        self.mean_module = gpytorch.means.ConstantMean()\n",
    "        # self.mean_module = gpytorch.means.ZeroMean()\n",
    "        self.covar_module = gpytorch.kernels.RBFKernel()\n",
    "\n",
    "    def forward(self, x):\n",
    "        mean_x = self.mean_module(x)\n",
    "        covar_x = self.covar_module(x)\n",
    "        return gpytorch.distributions.MultivariateNormal(mean_x, covar_x)\n",
    "\n",
    "class DCSVGP(ApproximateGP):\n",
    "    def __init__(self, inducing_points):\n",
    "        variational_distribution = CholeskyVariationalDistribution(inducing_points.size(0))\n",
    "        covar_module_mean = gpytorch.kernels.RBFKernel()\n",
    "        variational_strategy = VariationalStrategyDecoupledConditionals(\n",
    "            self, inducing_points,\n",
    "            variational_distribution,\n",
    "            covar_module_mean,\n",
    "            learn_inducing_locations=True,\n",
    "        )\n",
    "\n",
    "        super().__init__(variational_strategy)\n",
    "\n",
    "        self.mean_module = gpytorch.means.ConstantMean()\n",
    "        # self.mean_module = gpytorch.means.ZeroMean()\n",
    "        self.covar_module = gpytorch.kernels.RBFKernel()\n",
    "\n",
    "    def forward(self, x):\n",
    "        mean_x = self.mean_module(x)\n",
    "        covar_x = self.covar_module(x)\n",
    "        return gpytorch.distributions.MultivariateNormal(mean_x, covar_x)"
   ]
  },
  {
   "cell_type": "code",
   "execution_count": 4,
   "id": "d302e31b",
   "metadata": {},
   "outputs": [],
   "source": [
    "import os\n",
    "import sys\n",
    "sys.path.append(\"./PyTorch-LBFGS/functions\")\n",
    "\n",
    "from LBFGS import LBFGS, FullBatchLBFGS\n",
    "\n",
    "def train(\n",
    "    model, likelihood, train_x, train_y, test_x, test_y,\n",
    "    num_epochs=1000, lr=0.01):\n",
    "\n",
    "    optimizer = FullBatchLBFGS(list(model.parameters()) + list(likelihood.parameters()))\n",
    "    # optimizer = FullBatchLBFGS(model.parameters())\n",
    "    mll = gpytorch.mlls.VariationalELBO(likelihood, model, num_data=train_y.size(0), beta=1.)\n",
    "\n",
    "    def closure():\n",
    "        optimizer.zero_grad()\n",
    "        output = model(train_x)\n",
    "        loss = -mll(output, train_y)\n",
    "        return loss\n",
    "\n",
    "    loss = closure()\n",
    "    loss.backward()\n",
    "\n",
    "    for i in range(num_epochs):\n",
    "#         if i == 56:\n",
    "#             import ipdb; ipdb.set_trace()\n",
    "\n",
    "        options = {'closure': closure, 'current_loss': loss, 'max_ls': 50}\n",
    "        loss, _, lr, _, F_eval, G_eval, _, _ = optimizer.step(options)\n",
    "\n",
    "        with torch.no_grad():\n",
    "            # train_rmse, train_nll = evaluate(model, likelihood, train_x, train_y)\n",
    "            test_rmse, test_nll = evaluate(model, likelihood, test_x, test_y)\n",
    "\n",
    "            if i % 10 == 0:\n",
    "                print(\n",
    "                    \"iter {:4d},\".format(i),\n",
    "                    \"loss {:f},\".format(loss.item()),\n",
    "                    \"mean ls {:.4f},\".format(model.variational_strategy.covar_module_mean.lengthscale.item()) if isinstance(model, DCSVGP) else \"\",\n",
    "                    \"covar ls {:.4f},\".format(model.covar_module.lengthscale.item()),\n",
    "                    \"noise {:.4f},\".format(likelihood.noise.item()),\n",
    "                    \"test rmse {:.4f},\".format(test_rmse),\n",
    "                    \"test nll {:.4f}\".format(test_nll),\n",
    "                )\n",
    "\n",
    "    return model, likelihood\n",
    "\n",
    "def evaluate(model, likelihood, test_x, test_y):\n",
    "    model.eval()\n",
    "    likelihood.eval()\n",
    "\n",
    "    pred_dist = likelihood(model(test_x))\n",
    "\n",
    "    rmse = (pred_dist.mean - test_y).square().mean().sqrt()\n",
    "    nll = -pred_dist.log_prob(test_y) / test_y.size(0)\n",
    "\n",
    "    model.train()\n",
    "    likelihood.train()\n",
    "    return rmse, nll"
   ]
  },
  {
   "cell_type": "code",
   "execution_count": 5,
   "id": "0dcdcbf7",
   "metadata": {},
   "outputs": [
    {
     "name": "stdout",
     "output_type": "stream",
     "text": [
      "DCSVGP\n",
      "torch.float64\n"
     ]
    },
    {
     "name": "stderr",
     "output_type": "stream",
     "text": [
      "/home/kaiwen/better_init_variational_gp/gpytorch/gpytorch/lazy/lazy_tensor.py:25: UserWarning: gpytorch.lazy.delazify is deprecated in favor of linear_operator.to_dense\n",
      "  warnings.warn(\"gpytorch.lazy.delazify is deprecated in favor of linear_operator.to_dense\")\n",
      "/home/kaiwen/better_init_variational_gp/dcsvgp/./PyTorch-LBFGS/functions/LBFGS.py:257: UserWarning: This overload of add_ is deprecated:\n",
      "\tadd_(Number alpha, Tensor other)\n",
      "Consider using one of the following signatures instead:\n",
      "\tadd_(Tensor other, *, Number alpha) (Triggered internally at ../torch/csrc/utils/python_arg_parser.cpp:1420.)\n",
      "  p.data.add_(step_size, update[offset:offset + numel].view_as(p.data))\n"
     ]
    },
    {
     "name": "stdout",
     "output_type": "stream",
     "text": [
      "iter    0, loss 1.703794, mean ls 0.5188, covar ls 0.8876, noise 1.0883, test rmse 1.0144, test nll 1.1434\n",
      "iter   10, loss 1.372528, mean ls 0.4440, covar ls 4.5641, noise 0.9635, test rmse 0.9379, test nll 1.2148\n",
      "iter   20, loss 1.111880, mean ls 0.6841, covar ls 11.3551, noise 0.5196, test rmse 0.6478, test nll 0.8994\n",
      "iter   30, loss 0.991113, mean ls 0.7627, covar ls 15.9900, noise 0.3775, test rmse 0.5579, test nll 0.7749\n",
      "iter   40, loss 0.889714, mean ls 0.9292, covar ls 19.1390, noise 0.3717, test rmse 0.4727, test nll 0.7057\n",
      "iter   50, loss 0.778284, mean ls 1.2145, covar ls 22.2530, noise 0.2970, test rmse 0.4256, test nll 0.6154\n",
      "iter   60, loss 0.701729, mean ls 1.5236, covar ls 25.0758, noise 0.2228, test rmse 0.4143, test nll 0.5483\n",
      "iter   70, loss 0.649792, mean ls 1.7499, covar ls 26.3668, noise 0.1848, test rmse 0.4118, test nll 0.5250\n",
      "iter   80, loss 0.616768, mean ls 1.8976, covar ls 27.2046, noise 0.1753, test rmse 0.4116, test nll 0.5185\n",
      "iter   90, loss 0.596422, mean ls 2.0127, covar ls 27.5999, noise 0.1797, test rmse 0.4126, test nll 0.5210\n",
      "iter  100, loss 0.582604, mean ls 2.1556, covar ls 28.4896, noise 0.1774, test rmse 0.4105, test nll 0.5182\n",
      "iter  110, loss 0.572937, mean ls 2.1800, covar ls 28.7890, noise 0.1755, test rmse 0.4098, test nll 0.5201\n",
      "iter  120, loss 0.564973, mean ls 2.1753, covar ls 28.9802, noise 0.1686, test rmse 0.4084, test nll 0.5166\n",
      "iter  130, loss 0.561504, mean ls 2.1905, covar ls 29.1762, noise 0.1628, test rmse 0.4074, test nll 0.5142\n",
      "iter  140, loss 0.557799, mean ls 2.1830, covar ls 29.2535, noise 0.1624, test rmse 0.4067, test nll 0.5128\n",
      "iter  150, loss 0.553846, mean ls 2.1664, covar ls 29.3453, noise 0.1646, test rmse 0.4051, test nll 0.5110\n",
      "iter  160, loss 0.551187, mean ls 2.1473, covar ls 29.4220, noise 0.1646, test rmse 0.4046, test nll 0.5083\n",
      "iter  170, loss 0.548552, mean ls 2.1465, covar ls 29.5446, noise 0.1619, test rmse 0.4040, test nll 0.5082\n",
      "iter  180, loss 0.545490, mean ls 2.1251, covar ls 29.7207, noise 0.1600, test rmse 0.4028, test nll 0.5051\n",
      "iter  190, loss 0.543641, mean ls 2.1189, covar ls 29.7695, noise 0.1603, test rmse 0.4024, test nll 0.5037\n"
     ]
    },
    {
     "data": {
      "text/plain": [
       "(DCSVGP(\n",
       "   (variational_strategy): VariationalStrategyDecoupledConditionals(\n",
       "     (_variational_distribution): CholeskyVariationalDistribution()\n",
       "     (covar_module_mean): RBFKernel(\n",
       "       (raw_lengthscale_constraint): Positive()\n",
       "       (distance_module): Distance()\n",
       "     )\n",
       "   )\n",
       "   (mean_module): ConstantMean()\n",
       "   (covar_module): RBFKernel(\n",
       "     (raw_lengthscale_constraint): Positive()\n",
       "     (distance_module): Distance()\n",
       "   )\n",
       " ),\n",
       " GaussianLikelihood(\n",
       "   (noise_covar): HomoskedasticNoise(\n",
       "     (raw_noise_constraint): GreaterThan(1.000E-04)\n",
       "   )\n",
       " ))"
      ]
     },
     "execution_count": 5,
     "metadata": {},
     "output_type": "execute_result"
    }
   ],
   "source": [
    "train_x, train_y, test_x, test_y = load_uci_data(\"./uci/\", \"elevators\", seed=0, device=device)[:4]\n",
    "\n",
    "u0 = torch.randn(500, train_x.size(-1), device=device) * 0.1\n",
    "model = DCSVGP(u0)\n",
    "# model = SVGP(u0)\n",
    "likelihood = gpytorch.likelihoods.GaussianLikelihood()\n",
    "\n",
    "print(list(model.parameters())[0].dtype)\n",
    "model.to(device).train()\n",
    "likelihood.to(device).train()\n",
    "\n",
    "train(model, likelihood, train_x, train_y, test_x, test_y, num_epochs=200, lr=1.)"
   ]
  },
  {
   "cell_type": "code",
   "execution_count": 10,
   "id": "a6dee782",
   "metadata": {},
   "outputs": [],
   "source": [
    "torch.save({\n",
    "    'model_state_dict': model.state_dict(),\n",
    "    'likelihood_state_dict': likelihood.state_dict(),\n",
    "}, \"elevators-dcsvgp.tar\")"
   ]
  },
  {
   "cell_type": "code",
   "execution_count": 18,
   "id": "6a131a64",
   "metadata": {},
   "outputs": [
    {
     "name": "stdout",
     "output_type": "stream",
     "text": [
      "DCSVGP\n"
     ]
    },
    {
     "data": {
      "text/plain": [
       "GaussianLikelihood(\n",
       "  (noise_covar): HomoskedasticNoise(\n",
       "    (raw_noise_constraint): GreaterThan(1.000E-04)\n",
       "  )\n",
       ")"
      ]
     },
     "execution_count": 18,
     "metadata": {},
     "output_type": "execute_result"
    }
   ],
   "source": [
    "u0 = torch.randn(500, train_x.size(-1), device=device) * 0.1\n",
    "\n",
    "model = DCSVGP(u0)\n",
    "likelihood = gpytorch.likelihoods.GaussianLikelihood()\n",
    "\n",
    "ckpt = torch.load(\"elevators-dcsvgp.tar\")\n",
    "\n",
    "model.load_state_dict(ckpt['model_state_dict'])\n",
    "likelihood.load_state_dict(ckpt['likelihood_state_dict'])\n",
    "\n",
    "model.to(device).train()\n",
    "likelihood.to(device).train()"
   ]
  },
  {
   "cell_type": "code",
   "execution_count": 19,
   "id": "b2641f6b",
   "metadata": {},
   "outputs": [],
   "source": [
    "import numpy as np\n",
    "import matplotlib.pyplot as plt\n",
    "\n",
    "import copy\n",
    "\n",
    "model.train()\n",
    "likelihood.train()\n",
    "\n",
    "with torch.no_grad():\n",
    "    # ll = np.linspace(0.2, 1, 100)\n",
    "    ll = np.linspace(1., 100., 100)\n",
    "    losses = np.zeros(ll.shape[0])\n",
    "\n",
    "    for i in range(ll.shape[0]):\n",
    "        dummy_model = copy.deepcopy(model)\n",
    "        # dummy_model.variational_strategy.covar_module_mean.lengthscale = ll[i]\n",
    "        dummy_model.covar_module.lengthscale = ll[i]\n",
    "        mll = gpytorch.mlls.VariationalELBO(likelihood, dummy_model, num_data=train_y.size(0), beta=1.)\n",
    "        losses[i] = -mll(dummy_model(train_x), train_y).item()"
   ]
  },
  {
   "cell_type": "code",
   "execution_count": 20,
   "id": "e9d83a87",
   "metadata": {},
   "outputs": [
    {
     "name": "stdout",
     "output_type": "stream",
     "text": [
      "[1.39120421 0.60947963 0.55791802 0.54917301 0.54611744 0.54463449\n",
      " 0.54379668 0.54327762 0.54293275 0.54269118 0.54251575 0.54238541\n",
      " 0.54228714 0.54221229 0.54215477 0.54211017 0.54207524 0.5420476\n",
      " 0.54202547 0.54200754 0.54199282 0.54198058 0.54197028 0.54196149\n",
      " 0.54195391 0.54194731 0.54194148 0.5419363  0.54193165 0.54192745\n",
      " 0.54192363 0.54192013 0.54191691 0.54191392 0.54191115 0.54190855\n",
      " 0.54190612 0.54190383 0.54190167 0.54189962 0.54189766 0.5418958\n",
      " 0.54189401 0.54189229 0.54189064 0.54188904 0.54188749 0.54188599\n",
      " 0.54188452 0.54188309 0.54188169 0.54188032 0.54187898 0.54187766\n",
      " 0.54187636 0.54187508 0.54187382 0.54187257 0.54187133 0.54187011\n",
      " 0.5418689  0.5418677  0.54186651 0.54186533 0.54186415 0.54186298\n",
      " 0.54186182 0.54186067 0.54185952 0.54185838 0.54185725 0.54185612\n",
      " 0.54185499 0.54185387 0.54185275 0.54185164 0.54185054 0.54184943\n",
      " 0.54184833 0.54184724 0.54184615 0.54184506 0.54184398 0.54184291\n",
      " 0.54184183 0.54184076 0.5418397  0.54183864 0.54183758 0.54183653\n",
      " 0.54183548 0.54183443 0.54183339 0.54183236 0.54183133 0.5418303\n",
      " 0.54182928 0.54182826 0.54182725 0.54182624]\n"
     ]
    },
    {
     "data": {
      "image/png": "[encoded data removed]",
      "text/plain": [
       "<Figure size 640x480 with 1 Axes>"
      ]
     },
     "metadata": {},
     "output_type": "display_data"
    }
   ],
   "source": [
    "print(losses)\n",
    "\n",
    "plt.plot(ll, losses)\n",
    "plt.title('Negative ELBO vs Covar Length Scale')\n",
    "plt.show()"
   ]
  },
  {
   "cell_type": "code",
   "execution_count": 21,
   "id": "2e4efe23",
   "metadata": {},
   "outputs": [
    {
     "name": "stdout",
     "output_type": "stream",
     "text": [
      "first derivative -0.0000040618, second derivative 0.0000003862\n"
     ]
    }
   ],
   "source": [
    "model.zero_grad()\n",
    "mll = gpytorch.mlls.VariationalELBO(likelihood, model, num_data=train_y.size(0), beta=1.)\n",
    "loss = -mll(model(train_x), train_y)\n",
    "\n",
    "first_derivative = torch.autograd.grad(loss, model.covar_module.raw_lengthscale, create_graph=True)[0]\n",
    "second_derivative = torch.autograd.grad(first_derivative, model.covar_module.raw_lengthscale)[0]\n",
    "\n",
    "print(\n",
    "    \"first derivative {:.10f},\".format(first_derivative.item()),\n",
    "    \"second derivative {:.10f}\".format(second_derivative.item()),\n",
    ")"
   ]
  },
  {
   "cell_type": "code",
   "execution_count": null,
   "id": "9f642df9",
   "metadata": {},
   "outputs": [],
   "source": []
  }
 ],
 "metadata": {
  "kernelspec": {
   "display_name": "Python 3 (ipykernel)",
   "language": "python",
   "name": "python3"
  },
  "language_info": {
   "codemirror_mode": {
    "name": "ipython",
    "version": 3
   },
   "file_extension": ".py",
   "mimetype": "text/x-python",
   "name": "python",
   "nbconvert_exporter": "python",
   "pygments_lexer": "ipython3",
   "version": "3.8.16"
  }
 },
 "nbformat": 4,
 "nbformat_minor": 5
}
